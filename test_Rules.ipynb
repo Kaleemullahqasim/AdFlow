{
 "cells": [
  {
   "cell_type": "code",
   "execution_count": null,
   "metadata": {},
   "outputs": [],
   "source": [
    "def parse_easylist_selectors(file_path):\n",
    "    selectors = []\n",
    "    with open(file_path, 'r', encoding='utf-8') as file:\n",
    "        for line in file:\n",
    "            # Only consider lines with CSS selector-based rules\n",
    "            if line.startswith('##'):\n",
    "                selector = line[2:].strip()\n",
    "                selectors.append(selector)\n",
    "    return selectors\n",
    "\n",
    "parse_easylist_selectors(\"easylist.txt\")"
   ]
  },
  {
   "cell_type": "code",
   "execution_count": null,
   "metadata": {},
   "outputs": [],
   "source": [
    "import requests\n",
    "from bs4 import BeautifulSoup\n",
    "\n",
    "def check_ads(url):\n",
    "    try:\n",
    "        response = requests.get(url)\n",
    "        soup = BeautifulSoup(response.text, 'html.parser')\n",
    "\n",
    "        # Check for common ad-related elements or scripts\n",
    "        ad_elements = soup.find_all(['iframe', 'script', 'div'], \n",
    "                                    id=lambda x: x and 'ad' in x.lower(),\n",
    "                                    class_=lambda x: x and 'ad' in x.lower())\n",
    "\n",
    "        return len(ad_elements) > 0\n",
    "    except Exception as e:\n",
    "        print(f\"Error occurred: {e}\")\n",
    "        return False\n",
    "\n",
    "# Example usage\n",
    "url = 'https://www.espncricinfo.com/'\n",
    "has_ads = check_ads(url)\n",
    "print(f\"Ads found: {has_ads}\")\n"
   ]
  },
  {
   "cell_type": "code",
   "execution_count": null,
   "metadata": {},
   "outputs": [],
   "source": [
    "import pandas as pd\n",
    "import random\n"
   ]
  },
  {
   "cell_type": "code",
   "execution_count": null,
   "metadata": {},
   "outputs": [],
   "source": [
    "df = pd.read_csv(\"/Users/kaleemullahqasim/Downloads/top-1m.csv\")"
   ]
  },
  {
   "cell_type": "code",
   "execution_count": null,
   "metadata": {},
   "outputs": [],
   "source": [
    "df"
   ]
  },
  {
   "cell_type": "code",
   "execution_count": null,
   "metadata": {},
   "outputs": [],
   "source": [
    "filtered_df = df.iloc[150000:-150000]\n",
    "\n",
    "# Randomly sample 1000 domains\n",
    "random_domains = filtered_df['google.com'].sample(n=1000, random_state=random.seed()).tolist()\n"
   ]
  },
  {
   "cell_type": "code",
   "execution_count": null,
   "metadata": {},
   "outputs": [],
   "source": [
    "random_domains"
   ]
  },
  {
   "cell_type": "code",
   "execution_count": null,
   "metadata": {},
   "outputs": [],
   "source": [
    "formatted_domains = ['https://' + domain for domain in random_domains]\n",
    "\n",
    "# Output the list\n",
    "for domain in formatted_domains:\n",
    "    print(domain)"
   ]
  },
  {
   "cell_type": "code",
   "execution_count": 14,
   "metadata": {},
   "outputs": [],
   "source": [
    "domains_data = pd.DataFrame(formatted_domains)"
   ]
  },
  {
   "cell_type": "code",
   "execution_count": 15,
   "metadata": {},
   "outputs": [],
   "source": [
    "domains_data.to_parquet('urls.parquet')"
   ]
  },
  {
   "cell_type": "code",
   "execution_count": 2,
   "metadata": {},
   "outputs": [],
   "source": [
    "import requests\n",
    "from bs4 import BeautifulSoup\n",
    "import time\n",
    "import os\n",
    "\n",
    "def download_ads(url, save_dir='./ads'):\n",
    "    response = requests.get(url)\n",
    "    if response.status_code == 200:\n",
    "        soup = BeautifulSoup(response.content, 'html.parser')\n",
    "\n",
    "        # Identify ad elements using CSS classes, attributes, or patterns\n",
    "        ad_elements = soup.find_all(\n",
    "            'div', class_=['my-ad', 'ad-container', 'adsense-unit']\n",
    "        )  # Replace with appropriate selectors\n",
    "\n",
    "        # Extract ad information and download images\n",
    "        for ad_element in ad_elements:\n",
    "            image_url = ad_element.find('img')['src']\n",
    "            if image_url:\n",
    "                # Download ad image\n",
    "                filename = os.path.basename(image_url)\n",
    "                save_path = os.path.join(save_dir, filename)\n",
    "\n",
    "                try:\n",
    "                    download_image(image_url, save_path)\n",
    "                except Exception as e:\n",
    "                    print(f\"Error downloading image: {e}\")\n",
    "                    continue\n",
    "\n",
    "def download_image(image_url, save_path, retry_attempts=3):\n",
    "    for attempt in range(retry_attempts):\n",
    "        try:\n",
    "            image_response = requests.get(image_url)\n",
    "            if image_response.status_code == 200:\n",
    "                with open(save_path, 'wb') as f:\n",
    "                    f.write(image_response.content)\n",
    "                break\n",
    "        except Exception as e:\n",
    "            print(f\"Error downloading image: {e}\")\n",
    "            if attempt < retry_attempts - 1:\n",
    "                print(f\"Retrying attempt {attempt + 1}...\")\n",
    "                time.sleep(1)\n",
    "            else:\n",
    "                raise e\n",
    "\n",
    "# Example usage\n",
    "download_ads('https://www.espncricinfo.com/')\n"
   ]
  }
 ],
 "metadata": {
  "kernelspec": {
   "display_name": "Python 3",
   "language": "python",
   "name": "python3"
  },
  "language_info": {
   "codemirror_mode": {
    "name": "ipython",
    "version": 3
   },
   "file_extension": ".py",
   "mimetype": "text/x-python",
   "name": "python",
   "nbconvert_exporter": "python",
   "pygments_lexer": "ipython3",
   "version": "3.11.4"
  }
 },
 "nbformat": 4,
 "nbformat_minor": 2
}
