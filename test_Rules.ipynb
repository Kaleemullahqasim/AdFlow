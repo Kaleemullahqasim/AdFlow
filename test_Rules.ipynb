{
 "cells": [
  {
   "cell_type": "code",
   "execution_count": null,
   "metadata": {},
   "outputs": [],
   "source": [
    "def parse_easylist_selectors(file_path):\n",
    "    selectors = []\n",
    "    with open(file_path, 'r', encoding='utf-8') as file:\n",
    "        for line in file:\n",
    "            # Only consider lines with CSS selector-based rules\n",
    "            if line.startswith('##'):\n",
    "                selector = line[2:].strip()\n",
    "                selectors.append(selector)\n",
    "    return selectors\n",
    "\n",
    "parse_easylist_selectors(\"easylist.txt\")"
   ]
  },
  {
   "cell_type": "code",
   "execution_count": null,
   "metadata": {},
   "outputs": [],
   "source": [
    "import requests\n",
    "from bs4 import BeautifulSoup\n",
    "\n",
    "def check_ads(url):\n",
    "    try:\n",
    "        response = requests.get(url)\n",
    "        soup = BeautifulSoup(response.text, 'html.parser')\n",
    "\n",
    "        # Check for common ad-related elements or scripts\n",
    "        ad_elements = soup.find_all(['iframe', 'script', 'div'], \n",
    "                                    id=lambda x: x and 'ad' in x.lower(),\n",
    "                                    class_=lambda x: x and 'ad' in x.lower())\n",
    "\n",
    "        return len(ad_elements) > 0\n",
    "    except Exception as e:\n",
    "        print(f\"Error occurred: {e}\")\n",
    "        return False\n",
    "\n",
    "# Example usage\n",
    "url = 'https://www.espncricinfo.com/'\n",
    "has_ads = check_ads(url)\n",
    "print(f\"Ads found: {has_ads}\")\n"
   ]
  },
  {
   "cell_type": "code",
   "execution_count": null,
   "metadata": {},
   "outputs": [],
   "source": [
    "import pandas as pd\n",
    "import random\n"
   ]
  },
  {
   "cell_type": "code",
   "execution_count": null,
   "metadata": {},
   "outputs": [],
   "source": [
    "df = pd.read_csv(\"/Users/kaleemullahqasim/Downloads/top-1m.csv\")"
   ]
  },
  {
   "cell_type": "code",
   "execution_count": null,
   "metadata": {},
   "outputs": [],
   "source": [
    "df"
   ]
  },
  {
   "cell_type": "code",
   "execution_count": null,
   "metadata": {},
   "outputs": [],
   "source": [
    "filtered_df = df.iloc[150000:-150000]\n",
    "\n",
    "# Randomly sample 1000 domains\n",
    "random_domains = filtered_df['google.com'].sample(n=1000, random_state=random.seed()).tolist()\n"
   ]
  },
  {
   "cell_type": "code",
   "execution_count": null,
   "metadata": {},
   "outputs": [],
   "source": [
    "random_domains"
   ]
  },
  {
   "cell_type": "code",
   "execution_count": null,
   "metadata": {},
   "outputs": [],
   "source": [
    "formatted_domains = ['https://' + domain for domain in random_domains]\n",
    "\n",
    "# Output the list\n",
    "for domain in formatted_domains:\n",
    "    print(domain)"
   ]
  },
  {
   "cell_type": "code",
   "execution_count": null,
   "metadata": {},
   "outputs": [],
   "source": [
    "domains_data = pd.DataFrame(formatted_domains)"
   ]
  },
  {
   "cell_type": "code",
   "execution_count": null,
   "metadata": {},
   "outputs": [],
   "source": [
    "domains_data.to_parquet('urls.parquet')"
   ]
  },
  {
   "cell_type": "code",
   "execution_count": null,
   "metadata": {},
   "outputs": [],
   "source": [
    "import requests\n",
    "from bs4 import BeautifulSoup\n",
    "import time\n",
    "import os\n",
    "\n",
    "def download_ads(url, save_dir='./ads'):\n",
    "    response = requests.get(url)\n",
    "    if response.status_code == 200:\n",
    "        soup = BeautifulSoup(response.content, 'html.parser')\n",
    "\n",
    "        # Identify ad elements using CSS classes, attributes, or patterns\n",
    "        ad_elements = soup.find_all(\n",
    "            'div', class_=['my-ad', 'ad-container', 'adsense-unit']\n",
    "        )  # Replace with appropriate selectors\n",
    "\n",
    "        # Extract ad information and download images\n",
    "        for ad_element in ad_elements:\n",
    "            image_url = ad_element.find('img')['src']\n",
    "            if image_url:\n",
    "                # Download ad image\n",
    "                filename = os.path.basename(image_url)\n",
    "                save_path = os.path.join(save_dir, filename)\n",
    "\n",
    "                try:\n",
    "                    download_image(image_url, save_path)\n",
    "                except Exception as e:\n",
    "                    print(f\"Error downloading image: {e}\")\n",
    "                    continue\n",
    "\n",
    "def download_image(image_url, save_path, retry_attempts=3):\n",
    "    for attempt in range(retry_attempts):\n",
    "        try:\n",
    "            image_response = requests.get(image_url)\n",
    "            if image_response.status_code == 200:\n",
    "                with open(save_path, 'wb') as f:\n",
    "                    f.write(image_response.content)\n",
    "                break\n",
    "        except Exception as e:\n",
    "            print(f\"Error downloading image: {e}\")\n",
    "            if attempt < retry_attempts - 1:\n",
    "                print(f\"Retrying attempt {attempt + 1}...\")\n",
    "                time.sleep(1)\n",
    "            else:\n",
    "                raise e\n",
    "\n",
    "# Example usage\n",
    "download_ads('https://www.espncricinfo.com/')\n"
   ]
  },
  {
   "cell_type": "code",
   "execution_count": null,
   "metadata": {},
   "outputs": [],
   "source": [
    "import requests"
   ]
  },
  {
   "cell_type": "code",
   "execution_count": null,
   "metadata": {},
   "outputs": [],
   "source": [
    "import requests\n",
    "\n",
    "def download_image(image_url, save_path):\n",
    "    try:\n",
    "        response = requests.get(image_url)\n",
    "        if response.status_code == 200:\n",
    "            with open(save_path, 'wb') as file:\n",
    "                file.write(response.content)\n",
    "            print(f\"Image successfully downloaded to {save_path}\")\n",
    "        else:\n",
    "            print(f\"Failed to download image: status code {response.status_code}\")\n",
    "    except requests.exceptions.RequestException as e:\n",
    "        print(f\"Request exception occurred: {e}\")\n",
    "    except IOError as e:\n",
    "        print(f\"IOError occurred: {e}\")\n",
    "\n",
    "if __name__ == \"__main__\":\n",
    "    image_url = 'https://en.wikipedia.org/wiki/File:Google_Images_2015_logo.svg'\n",
    "    save_path = '/Users/kaleemullahqasim/Desktop/Prof Xiu Hai Tao/data/google_logo.svg'\n",
    "\n",
    "    download_image(image_url, save_path)\n"
   ]
  },
  {
   "cell_type": "code",
   "execution_count": null,
   "metadata": {},
   "outputs": [],
   "source": [
    "import pandas as pd\n",
    "import csv"
   ]
  },
  {
   "cell_type": "code",
   "execution_count": null,
   "metadata": {},
   "outputs": [],
   "source": [
    "df = pd.read_parquet(\"urls.parquet\")"
   ]
  },
  {
   "cell_type": "code",
   "execution_count": null,
   "metadata": {},
   "outputs": [],
   "source": [
    "df.to_csv(\"urls.csv\")"
   ]
  },
  {
   "cell_type": "code",
   "execution_count": null,
   "metadata": {},
   "outputs": [],
   "source": []
  },
  {
   "cell_type": "code",
   "execution_count": null,
   "metadata": {},
   "outputs": [],
   "source": []
  },
  {
   "cell_type": "code",
   "execution_count": null,
   "metadata": {},
   "outputs": [],
   "source": [
    "%pip install --upgrade requests urllib3 certifi"
   ]
  },
  {
   "cell_type": "code",
   "execution_count": 1,
   "metadata": {},
   "outputs": [
    {
     "name": "stderr",
     "output_type": "stream",
     "text": [
      "/Users/kaleemullahqasim/Desktop/Prof Xiu Hai Tao/ads/subfolder-10.zip: 100%|██████████| 6.89G/6.89G [04:07<00:00, 27.8MiB/s] "
     ]
    },
    {
     "name": "stdout",
     "output_type": "stream",
     "text": [
      "File downloaded successfully as /Users/kaleemullahqasim/Desktop/Prof Xiu Hai Tao/ads/subfolder-10.zip\n"
     ]
    },
    {
     "name": "stderr",
     "output_type": "stream",
     "text": [
      "\n"
     ]
    }
   ],
   "source": [
    "import requests\n",
    "from tqdm import tqdm\n",
    "import threading\n",
    "\n",
    "def download_file_with_progress(url, local_filename):\n",
    "    try:\n",
    "        response = requests.get(url, stream=True)\n",
    "        if response.status_code == 200:\n",
    "            total_size = int(response.headers.get('content-length', 0))\n",
    "            with tqdm(total=total_size, unit='iB', unit_scale=True, desc=local_filename) as bar:\n",
    "                with open(local_filename, 'wb') as f:\n",
    "                    for chunk in response.iter_content(chunk_size=8192):\n",
    "                        if chunk:\n",
    "                            f.write(chunk)\n",
    "                            bar.update(len(chunk))\n",
    "            print(f\"File downloaded successfully as {local_filename}\")\n",
    "        else:\n",
    "            print(f\"Error occurred: Status code {response.status_code}\")\n",
    "    except Exception as e:\n",
    "        print(f\"An error occurred: {e}\")\n",
    "\n",
    "def download_files(urls):\n",
    "    threads = []\n",
    "    for url in urls:\n",
    "        file_name = \"/Users/kaleemullahqasim/Desktop/Prof Xiu Hai Tao/ads/\" + url.split('/')[-1]\n",
    "        thread = threading.Thread(target=download_file_with_progress, args=(url, file_name))\n",
    "        threads.append(thread)\n",
    "        thread.start()\n",
    "    \n",
    "    for thread in threads:\n",
    "        thread.join()\n",
    "\n",
    "urls = [\n",
    "    # \"https://storage.googleapis.com/ads-dataset/subfolder-1.zip\",\n",
    "    # \"https://storage.googleapis.com/ads-dataset/subfolder-2.zip\",\n",
    "    # \"https://storage.googleapis.com/ads-dataset/subfolder-3.zip\",\n",
    "    # \"https://storage.googleapis.com/ads-dataset/subfolder-4.zip\",\n",
    "    # \"https://storage.googleapis.com/ads-dataset/subfolder-5.zip\",\n",
    "    # \"https://storage.googleapis.com/ads-dataset/subfolder-6.zip\",\n",
    "    # \"https://storage.googleapis.com/ads-dataset/subfolder-7.zip\",\n",
    "    # \"https://storage.googleapis.com/ads-dataset/subfolder-8.zip\",\n",
    "    # \"https://storage.googleapis.com/ads-dataset/subfolder-9.zip\",\n",
    "    \"https://storage.googleapis.com/ads-dataset/subfolder-10.zip\",\n",
    "]\n",
    "\n",
    "download_files(urls)\n"
   ]
  }
 ],
 "metadata": {
  "kernelspec": {
   "display_name": "Python 3",
   "language": "python",
   "name": "python3"
  },
  "language_info": {
   "codemirror_mode": {
    "name": "ipython",
    "version": 3
   },
   "file_extension": ".py",
   "mimetype": "text/x-python",
   "name": "python",
   "nbconvert_exporter": "python",
   "pygments_lexer": "ipython3",
   "version": "3.11.4"
  }
 },
 "nbformat": 4,
 "nbformat_minor": 2
}
