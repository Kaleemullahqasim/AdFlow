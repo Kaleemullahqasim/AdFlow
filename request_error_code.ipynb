{
 "cells": [
  {
   "cell_type": "code",
   "execution_count": 1,
   "metadata": {},
   "outputs": [],
   "source": [
    "# imports \n",
    "import pandas as pd \n",
    "import requests\n",
    "import tqdm as tqdm\n",
    "tqdm.tqdm.pandas()"
   ]
  },
  {
   "cell_type": "code",
   "execution_count": 2,
   "metadata": {},
   "outputs": [],
   "source": [
    "from sympy import use\n",
    "\n",
    "\n",
    "df = pd.read_csv(\"/Users/kaleemullahqasim/Documents/GitHub/AdIdentifer_Downloader/v0.2/1-12600_5515_ad_websites.csv\", usecols=['url'])"
   ]
  },
  {
   "cell_type": "code",
   "execution_count": 3,
   "metadata": {},
   "outputs": [
    {
     "data": {
      "text/html": [
       "<div>\n",
       "<style scoped>\n",
       "    .dataframe tbody tr th:only-of-type {\n",
       "        vertical-align: middle;\n",
       "    }\n",
       "\n",
       "    .dataframe tbody tr th {\n",
       "        vertical-align: top;\n",
       "    }\n",
       "\n",
       "    .dataframe thead th {\n",
       "        text-align: right;\n",
       "    }\n",
       "</style>\n",
       "<table border=\"1\" class=\"dataframe\">\n",
       "  <thead>\n",
       "    <tr style=\"text-align: right;\">\n",
       "      <th></th>\n",
       "      <th>url</th>\n",
       "    </tr>\n",
       "  </thead>\n",
       "  <tbody>\n",
       "    <tr>\n",
       "      <th>0</th>\n",
       "      <td>youtube.com</td>\n",
       "    </tr>\n",
       "    <tr>\n",
       "      <th>1</th>\n",
       "      <td>twitter.com</td>\n",
       "    </tr>\n",
       "    <tr>\n",
       "      <th>2</th>\n",
       "      <td>doubleclick.net</td>\n",
       "    </tr>\n",
       "    <tr>\n",
       "      <th>3</th>\n",
       "      <td>fastly.net</td>\n",
       "    </tr>\n",
       "    <tr>\n",
       "      <th>4</th>\n",
       "      <td>bing.com</td>\n",
       "    </tr>\n",
       "    <tr>\n",
       "      <th>...</th>\n",
       "      <td>...</td>\n",
       "    </tr>\n",
       "    <tr>\n",
       "      <th>5510</th>\n",
       "      <td>filmdaily.co/obsessions/true-crime/mary-vincen...</td>\n",
       "    </tr>\n",
       "    <tr>\n",
       "      <th>5511</th>\n",
       "      <td>www.mirror.co.uk/news/uk-news/lee-rigbys-mum-n...</td>\n",
       "    </tr>\n",
       "    <tr>\n",
       "      <th>5512</th>\n",
       "      <td>etherealgames.com</td>\n",
       "    </tr>\n",
       "    <tr>\n",
       "      <th>5513</th>\n",
       "      <td>www5.himovies.to/watch-tv/the-nurse-96013.9585466</td>\n",
       "    </tr>\n",
       "    <tr>\n",
       "      <th>5514</th>\n",
       "      <td>www.3cx.com</td>\n",
       "    </tr>\n",
       "  </tbody>\n",
       "</table>\n",
       "<p>5515 rows × 1 columns</p>\n",
       "</div>"
      ],
      "text/plain": [
       "                                                    url\n",
       "0                                           youtube.com\n",
       "1                                           twitter.com\n",
       "2                                       doubleclick.net\n",
       "3                                            fastly.net\n",
       "4                                              bing.com\n",
       "...                                                 ...\n",
       "5510  filmdaily.co/obsessions/true-crime/mary-vincen...\n",
       "5511  www.mirror.co.uk/news/uk-news/lee-rigbys-mum-n...\n",
       "5512                                  etherealgames.com\n",
       "5513  www5.himovies.to/watch-tv/the-nurse-96013.9585466\n",
       "5514                                        www.3cx.com\n",
       "\n",
       "[5515 rows x 1 columns]"
      ]
     },
     "execution_count": 3,
     "metadata": {},
     "output_type": "execute_result"
    }
   ],
   "source": [
    "df"
   ]
  },
  {
   "cell_type": "code",
   "execution_count": 4,
   "metadata": {},
   "outputs": [
    {
     "name": "stderr",
     "output_type": "stream",
     "text": [
      "100%|██████████| 5515/5515 [00:00<00:00, 2365918.64it/s]\n"
     ]
    }
   ],
   "source": [
    "# add https:// to the url if it is not present\n",
    "def add_https(url):\n",
    "    if 'http' not in url:\n",
    "        return 'https://' + url\n",
    "    return url\n",
    "\n",
    "df['url'] = df['url'].progress_apply(add_https)"
   ]
  },
  {
   "cell_type": "code",
   "execution_count": 5,
   "metadata": {},
   "outputs": [],
   "source": [
    "# # send request to the url and get the status code if the status code is 200 then the website is up and running\n",
    "# def get_status_code(url):\n",
    "#     try:\n",
    "#         r = requests.get(url)\n",
    "#         return r.status_code\n",
    "#     except:\n",
    "#         return 'error'\n",
    "    \n",
    "# df['status_code'] = df['url'].progress_apply(get_status_code)"
   ]
  },
  {
   "cell_type": "code",
   "execution_count": 6,
   "metadata": {},
   "outputs": [
    {
     "name": "stderr",
     "output_type": "stream",
     "text": [
      "100%|██████████| 5515/5515 [10:16<00:00,  8.94it/s]\n"
     ]
    }
   ],
   "source": [
    "import concurrent.futures\n",
    "import requests\n",
    "from tqdm import tqdm\n",
    "\n",
    "def get_status_code(url):\n",
    "    try:\n",
    "        r = requests.get(url, timeout=5)\n",
    "        return r.status_code\n",
    "    except:\n",
    "        return 'error'\n",
    "\n",
    "def main():\n",
    "    df['status_code'] = ''\n",
    "    urls = df['url'].tolist()\n",
    "    with concurrent.futures.ThreadPoolExecutor(max_workers=30) as executor:\n",
    "        futures = {executor.submit(get_status_code, url): url for url in urls}\n",
    "        for future in tqdm(concurrent.futures.as_completed(futures), total=len(urls)):\n",
    "            url = futures[future]\n",
    "            try:\n",
    "                data = future.result(timeout=5)\n",
    "            except concurrent.futures.TimeoutError:\n",
    "                print(f'Timeout for {url}')\n",
    "            except Exception as e:\n",
    "                print(f'Error for {url}: {e}')\n",
    "            else:\n",
    "                df.loc[df['url'] == url, 'status_code'] = data\n",
    "\n",
    "if __name__ == \"__main__\":\n",
    "    main()"
   ]
  },
  {
   "cell_type": "code",
   "execution_count": 7,
   "metadata": {},
   "outputs": [
    {
     "data": {
      "text/html": [
       "<div>\n",
       "<style scoped>\n",
       "    .dataframe tbody tr th:only-of-type {\n",
       "        vertical-align: middle;\n",
       "    }\n",
       "\n",
       "    .dataframe tbody tr th {\n",
       "        vertical-align: top;\n",
       "    }\n",
       "\n",
       "    .dataframe thead th {\n",
       "        text-align: right;\n",
       "    }\n",
       "</style>\n",
       "<table border=\"1\" class=\"dataframe\">\n",
       "  <thead>\n",
       "    <tr style=\"text-align: right;\">\n",
       "      <th></th>\n",
       "      <th>url</th>\n",
       "      <th>status_code</th>\n",
       "    </tr>\n",
       "  </thead>\n",
       "  <tbody>\n",
       "    <tr>\n",
       "      <th>0</th>\n",
       "      <td>https://youtube.com</td>\n",
       "      <td>200</td>\n",
       "    </tr>\n",
       "    <tr>\n",
       "      <th>1</th>\n",
       "      <td>https://twitter.com</td>\n",
       "      <td>400</td>\n",
       "    </tr>\n",
       "    <tr>\n",
       "      <th>2</th>\n",
       "      <td>https://doubleclick.net</td>\n",
       "      <td>200</td>\n",
       "    </tr>\n",
       "    <tr>\n",
       "      <th>3</th>\n",
       "      <td>https://fastly.net</td>\n",
       "      <td>200</td>\n",
       "    </tr>\n",
       "    <tr>\n",
       "      <th>4</th>\n",
       "      <td>https://bing.com</td>\n",
       "      <td>200</td>\n",
       "    </tr>\n",
       "    <tr>\n",
       "      <th>...</th>\n",
       "      <td>...</td>\n",
       "      <td>...</td>\n",
       "    </tr>\n",
       "    <tr>\n",
       "      <th>5510</th>\n",
       "      <td>https://filmdaily.co/obsessions/true-crime/mar...</td>\n",
       "      <td>error</td>\n",
       "    </tr>\n",
       "    <tr>\n",
       "      <th>5511</th>\n",
       "      <td>https://www.mirror.co.uk/news/uk-news/lee-rigb...</td>\n",
       "      <td>200</td>\n",
       "    </tr>\n",
       "    <tr>\n",
       "      <th>5512</th>\n",
       "      <td>https://etherealgames.com</td>\n",
       "      <td>403</td>\n",
       "    </tr>\n",
       "    <tr>\n",
       "      <th>5513</th>\n",
       "      <td>https://www5.himovies.to/watch-tv/the-nurse-96...</td>\n",
       "      <td>error</td>\n",
       "    </tr>\n",
       "    <tr>\n",
       "      <th>5514</th>\n",
       "      <td>https://www.3cx.com</td>\n",
       "      <td>403</td>\n",
       "    </tr>\n",
       "  </tbody>\n",
       "</table>\n",
       "<p>5515 rows × 2 columns</p>\n",
       "</div>"
      ],
      "text/plain": [
       "                                                    url status_code\n",
       "0                                   https://youtube.com         200\n",
       "1                                   https://twitter.com         400\n",
       "2                               https://doubleclick.net         200\n",
       "3                                    https://fastly.net         200\n",
       "4                                      https://bing.com         200\n",
       "...                                                 ...         ...\n",
       "5510  https://filmdaily.co/obsessions/true-crime/mar...       error\n",
       "5511  https://www.mirror.co.uk/news/uk-news/lee-rigb...         200\n",
       "5512                          https://etherealgames.com         403\n",
       "5513  https://www5.himovies.to/watch-tv/the-nurse-96...       error\n",
       "5514                                https://www.3cx.com         403\n",
       "\n",
       "[5515 rows x 2 columns]"
      ]
     },
     "execution_count": 7,
     "metadata": {},
     "output_type": "execute_result"
    }
   ],
   "source": [
    "df"
   ]
  },
  {
   "cell_type": "code",
   "execution_count": 8,
   "metadata": {},
   "outputs": [],
   "source": [
    "df.to_csv(\"/Users/kaleemullahqasim/Documents/GitHub/AdIdentifer_Downloader/v0.2/200_of_all_URLs.csv\", index=False)"
   ]
  }
 ],
 "metadata": {
  "kernelspec": {
   "display_name": "Python 3",
   "language": "python",
   "name": "python3"
  },
  "language_info": {
   "codemirror_mode": {
    "name": "ipython",
    "version": 3
   },
   "file_extension": ".py",
   "mimetype": "text/x-python",
   "name": "python",
   "nbconvert_exporter": "python",
   "pygments_lexer": "ipython3",
   "version": "3.12.2"
  }
 },
 "nbformat": 4,
 "nbformat_minor": 2
}
